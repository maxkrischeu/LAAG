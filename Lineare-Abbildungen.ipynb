{
 "cells": [
  {
   "cell_type": "markdown",
   "id": "e17ca4c0",
   "metadata": {},
   "source": [
    "# Test"
   ]
  },
  {
   "cell_type": "markdown",
   "id": "3265c359",
   "metadata": {},
   "source": [
    "```{warning}\n",
    "Das ist ein Test\n",
    "```"
   ]
  },
  {
   "cell_type": "markdown",
   "id": "1142427f",
   "metadata": {},
   "source": []
  }
 ],
 "metadata": {
  "language_info": {
   "name": "python"
  }
 },
 "nbformat": 4,
 "nbformat_minor": 5
}
