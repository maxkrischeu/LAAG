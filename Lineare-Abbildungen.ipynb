{
 "cells": [
  {
   "cell_type": "markdown",
   "id": "e17ca4c0",
   "metadata": {},
   "source": [
    "# Lineare Abbildung"
   ]
  },
  {
   "cell_type": "markdown",
   "id": "1142427f",
   "metadata": {},
   "source": [
    "```{prf:definition} Lineare Abbildung\n",
    ":nonumber:\n",
    ":label: Definition-Lineare-Abbildung\n",
    "\n",
    "Seien $V, W$ endlichdimensionale $\\mathbb{R}$-[Vektorräume](#Definition-Vektorraum). Eine [Abbildung](#Definition-Abbildung) $f: V \\rightarrow W$ heißt *linear*, falls für alle $v,w \\in V$ und für alle $\\lambda \\in \\mathbb{R}$ gelten:\n",
    "\n",
    "$$f(v + w) = f(v) + f(w)$$\n",
    "$$f(\\lambda v) = \\lambda f(v)$$\n",
    "\n",
    "```"
   ]
  },
  {
   "cell_type": "markdown",
   "id": "58a8a230",
   "metadata": {},
   "source": [
    "Schauen wir uns die [Definition der Linearen Abbildung](#Definition-Lineare-Abbildung)"
   ]
  },
  {
   "cell_type": "markdown",
   "id": "8d403119",
   "metadata": {},
   "source": [
    "```{prf:definition} Abbildung\n",
    ":nonumber:\n",
    ":label: Definition-Abbildung\n",
    "f\n",
    "```"
   ]
  },
  {
   "cell_type": "markdown",
   "id": "7a82197e",
   "metadata": {},
   "source": [
    "```{prf:definition} Vektorraum\n",
    ":nonumber:\n",
    ":label: Definition-Vektorraum\n",
    "f\n",
    "```"
   ]
  }
 ],
 "metadata": {
  "language_info": {
   "name": "python"
  }
 },
 "nbformat": 4,
 "nbformat_minor": 5
}
