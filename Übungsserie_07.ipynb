{
 "cells": [
  {
   "cell_type": "markdown",
   "id": "e17ca4c0",
   "metadata": {},
   "source": [
    "# Musterlösung Übungsserie 07"
   ]
  },
  {
   "cell_type": "code",
   "execution_count": null,
   "id": "8d9a2365",
   "metadata": {},
   "outputs": [],
   "source": [
    "# If you haven’t installed ipywidgets yet, run this in your notebook once:\n",
    "# !pip install ipywidgets\n",
    "\n",
    "from ipywidgets import interact\n",
    "\n",
    "def show_square(x):\n",
    "    \"\"\"Prints the square of x.\"\"\"\n",
    "    print(f\"{x}² = {x**2}\")\n",
    "\n",
    "# A slider from 0 to 10 stepping by 1\n",
    "interact(show_square, x=(0, 10, 1))"
   ]
  },
  {
   "cell_type": "code",
   "execution_count": null,
   "id": "6c7e5cf9",
   "metadata": {},
   "outputs": [],
   "source": []
  }
 ],
 "metadata": {
  "kernelspec": {
   "display_name": ".venv",
   "language": "python",
   "name": "python3"
  },
  "language_info": {
   "codemirror_mode": {
    "name": "ipython",
    "version": 3
   },
   "file_extension": ".py",
   "mimetype": "text/x-python",
   "name": "python",
   "nbconvert_exporter": "python",
   "pygments_lexer": "ipython3",
   "version": "3.13.2"
  }
 },
 "nbformat": 4,
 "nbformat_minor": 5
}
